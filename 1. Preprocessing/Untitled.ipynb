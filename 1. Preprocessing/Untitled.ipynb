{
 "cells": [
  {
   "cell_type": "code",
   "execution_count": 5,
   "metadata": {},
   "outputs": [],
   "source": [
    "import cv2\n",
    "import numpy as np\n",
    "from matplotlib import pyplot as plt\n",
    "import os, os.path\n",
    "import sys\n",
    "from PIL import Image\n",
    "from PIL import GifImagePlugin\n",
    "import face_recognition as FR\n",
    "import magic\n",
    "import shutil"
   ]
  },
  {
   "cell_type": "code",
   "execution_count": 15,
   "metadata": {},
   "outputs": [
    {
     "name": "stdout",
     "output_type": "stream",
     "text": [
      "path+imageName :  ../Dataset/test/chaewon.jpg\n",
      "path+imageName :  ../Dataset/test/yuri.gif\n",
      "<class 'numpy.ndarray'>\n",
      "../Dataset/testTrain/yuri2.jpg\n",
      "path+imageName :  ../Dataset/test/yuri.jpg\n",
      "path+imageName :  ../Dataset/test/Yuri38.gif\n",
      "<class 'numpy.ndarray'>\n",
      "../Dataset/testTrain/Yuri382.jpg\n",
      "path+imageName :  ../Dataset/test/Yuri447.jpg\n",
      "path+imageName :  ../Dataset/test/Yuri562.png\n",
      "<class 'numpy.ndarray'>\n",
      "../Dataset/testTrain/Yuri5622.jpg\n",
      "path+imageName :  ../Dataset/test/chaewon.jpg\n",
      "path+imageName :  ../Dataset/test/yuri.gif\n",
      "<class 'numpy.ndarray'>\n",
      "../Dataset/testTrain/yuri2.jpg\n",
      "path+imageName :  ../Dataset/test/yuri.jpg\n",
      "path+imageName :  ../Dataset/test/Yuri38.gif\n",
      "<class 'numpy.ndarray'>\n",
      "../Dataset/testTrain/Yuri382.jpg\n",
      "path+imageName :  ../Dataset/test/Yuri447.jpg\n",
      "path+imageName :  ../Dataset/test/Yuri562.png\n",
      "<class 'numpy.ndarray'>\n",
      "../Dataset/testTrain/Yuri5622.jpg\n",
      "path+imageName :  ../Dataset/test/chaewon.jpg\n",
      "path+imageName :  ../Dataset/test/yuri.gif\n",
      "<class 'numpy.ndarray'>\n",
      "../Dataset/testTrain/yuri2.jpg\n",
      "path+imageName :  ../Dataset/test/yuri.jpg\n",
      "path+imageName :  ../Dataset/test/Yuri38.gif\n",
      "<class 'numpy.ndarray'>\n",
      "../Dataset/testTrain/Yuri382.jpg\n",
      "path+imageName :  ../Dataset/test/Yuri447.jpg\n",
      "path+imageName :  ../Dataset/test/Yuri562.png\n",
      "<class 'numpy.ndarray'>\n",
      "../Dataset/testTrain/Yuri5622.jpg\n"
     ]
    }
   ],
   "source": [
    "# Notes : 'JoYuris' element is file directory\n",
    "# raw image file is saved 'raw' dir and cropped file is saved 'cropped' dir\n",
    "# ex) raw image : './Yuri/raw/1.jpg', cropped image : './Yuri/cropped/1.jpg' \n",
    "\n",
    "JoYuris =['Yuri', 'Chaewon', 'Yena']\n",
    "for member in JoYuris:\n",
    "    newImageName = ''\n",
    "    #path = '../Dataset/Raw/' + member + '/'\n",
    "    path = '../Dataset/test/'\n",
    "    #savePath = '../Dataset/Train/' + member + '/'\n",
    "    #failPath = '../Dataset/Fail/' + member + '/'\n",
    "    savePath = '../Dataset/testTrain/'\n",
    "    failPath = '../Dataset/testFail/'\n",
    "\n",
    "    imageList = os.listdir(path)\n",
    "    cnt = 0\n",
    "    for imageName in imageList:\n",
    "        print(\"path+imageName : \",path+imageName)\n",
    "        if os.path.isfile(savePath+imageName) == True:\n",
    "            continue\n",
    "        # extention = imageName.strip().split('.')[-1]\n",
    "        extention = magic.from_file(path+imageName).split()[0].upper()\n",
    "        if extention == 'GIF':\n",
    "            imageObject = Image.open(path+imageName)\n",
    "            imageObject.seek(0) \n",
    "            imageObject = imageObject.convert('RGB')\n",
    "            image = np.array(imageObject)\n",
    "        elif extention != 'JPEG' and extention != 'PNG':\n",
    "            continue\n",
    "        else:\n",
    "            image = FR.load_image_file(path+imageName)\n",
    "            \n",
    "        faces = FR.face_locations(image, number_of_times_to_upsample=0, model=\"hog\")\n",
    "        if len(faces) != 1 :\n",
    "            shutil.move(path+imageName, failPath+imageName)\n",
    "            continue\n",
    "        for T, R, B, L in faces:\n",
    "            cnt = cnt + 1\n",
    "            tcnt = 0\n",
    "            crop  = image[T:B, L:R]\n",
    "            resized = Image.fromarray(crop).resize((256,256), Image.BICUBIC)\n",
    "            print(type(resized))\n",
    "            resized = cv2.cvtColor(resized, cv2.COLOR_BGR2RGB)\n",
    "            newImageName = savePath + imageName.split('.')[0] + '2.jpg'\n",
    "            #plt.imshow(cv2.cvtColor(resized, cv2.COLOR_BGR2RGB))\n",
    "            #plt.show()\n",
    "            print(newImageName)\n",
    "            resized.save(newImageName)"
   ]
  },
  {
   "cell_type": "code",
   "execution_count": null,
   "metadata": {},
   "outputs": [],
   "source": []
  },
  {
   "cell_type": "code",
   "execution_count": null,
   "metadata": {},
   "outputs": [],
   "source": []
  }
 ],
 "metadata": {
  "kernelspec": {
   "display_name": "Python 3",
   "language": "python",
   "name": "python3"
  },
  "language_info": {
   "codemirror_mode": {
    "name": "ipython",
    "version": 3
   },
   "file_extension": ".py",
   "mimetype": "text/x-python",
   "name": "python",
   "nbconvert_exporter": "python",
   "pygments_lexer": "ipython3",
   "version": "3.6.6"
  }
 },
 "nbformat": 4,
 "nbformat_minor": 2
}
