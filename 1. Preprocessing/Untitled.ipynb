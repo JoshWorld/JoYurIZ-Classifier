{
 "cells": [
  {
   "cell_type": "code",
   "execution_count": 3,
   "metadata": {},
   "outputs": [
    {
     "name": "stdout",
     "output_type": "stream",
     "text": [
      "['yuri (229).jpg', 'yuri (231).jpg', 'yuri.jpg']\n",
      "path+imageName :  ../test/Yuri/yuri (229).jpg\n",
      "<class 'numpy.ndarray'>\n",
      "../trainImage/Yuri/2-cnn.jpg\n",
      "path+imageName :  ../test/Yuri/yuri (231).jpg\n",
      "<class 'numpy.ndarray'>\n",
      "../trainImage/Yuri/4-cnn.jpg\n",
      "path+imageName :  ../test/Yuri/yuri.jpg\n",
      "<class 'numpy.ndarray'>\n",
      "../trainImage/Yuri/5-cnn.jpg\n",
      "['chaewon.jpg']\n",
      "path+imageName :  ../test/Chaewon/chaewon.jpg\n",
      "<class 'numpy.ndarray'>\n",
      "../trainImage/Chaewon/1-cnn.jpg\n",
      "['yaena.jpg']\n",
      "path+imageName :  ../test/Yaena/yaena.jpg\n",
      "<class 'numpy.ndarray'>\n",
      "../trainImage/Yaena/1-cnn.jpg\n"
     ]
    }
   ],
   "source": [
    "import cv2\n",
    "import numpy as np\n",
    "from matplotlib import pyplot as plt\n",
    "import os, os.path\n",
    "import sys\n",
    "from PIL import Image\n",
    "from PIL import GifImagePlugin\n",
    "import face_recognition as FR\n",
    "# Notes: 'face.xml' is 'opencv/data/haarcascades/haarcascade_frontalface_default.xml'\n",
    "\n",
    "frontFaceCascade = cv2.CascadeClassifier('../frontFace_default.xml')\n",
    "profileFaceCascade = cv2.CascadeClassifier('../profileFace.xml')\n",
    "\n",
    "# Notes : 'JoYuris' element is file directory\n",
    "# raw image file is saved 'raw' dir and cropped file is saved 'cropped' dir\n",
    "# ex) raw image : './Yuri/raw/1.jpg', cropped image : './Yuri/cropped/1.jpg' \n",
    "\n",
    "JoYuris =['Yuri', 'Chaewon', 'Yaena']\n",
    "for member in JoYuris:\n",
    "    newImageName = ''\n",
    "    #path = '../rawImage/' + member + '/'\n",
    "    path = '../test/' + member + '/'\n",
    "    imageList = os.listdir(path)\n",
    "    print(format(imageList))\n",
    "    cnt = 0\n",
    "    for imageName in imageList:\n",
    "        print(\"path+imageName : \",path+imageName)\n",
    "        extention = imageName.strip().split('.')[-1]\n",
    "        if extention == 'gif':\n",
    "            imageObject = Image.open(\"./yuri.gif\")\n",
    "            imageObject.seek(0) \n",
    "            imageObject = imageObject.convert('RGB')\n",
    "            image = np.array(imageObject)\n",
    "        elif extention != 'jpg' and extention != 'png':\n",
    "            continue\n",
    "        else:\n",
    "            image = cv2.imread(path+imageName)\n",
    "            gray = cv2.bilateralFilter(cv2.cvtColor(image, cv2.COLOR_BGR2GRAY), 5, 75, 75)\n",
    "            frontFaces = frontFaceCascade.detectMultiScale(gray, 1.3, 5)\n",
    "            profileFaces = profileFaceCascade.detectMultiScale(gray, 1.3, 5)\n",
    "            if len(frontFaces) > 1 or len(profileFaces) > 1:\n",
    "                continue\n",
    "            image = FR.load_image_file(path+imageName)\n",
    "        print(type(image))\n",
    "        #plt.imshow(image)\n",
    "        #plt.show()\n",
    "        faces = FR.face_locations(image, number_of_times_to_upsample=0, model=\"cnn\")\n",
    "        for T, R, B, L in faces:\n",
    "            cnt = cnt + 1\n",
    "            tcnt = 0\n",
    "            crop  = image[T:B, L:R]\n",
    "            resized= cv2.resize(crop, (128, 128),interpolation = cv2.INTER_CUBIC)\n",
    "            resized = cv2.cvtColor(resized, cv2.COLOR_BGR2RGB)\n",
    "            newImageName = '../trainImage/' +member + '/' +str(cnt)+'-'+'cnn'+'.jpg'\n",
    "        #plt.imshow(cv2.cvtColor(resized, cv2.COLOR_BGR2RGB))\n",
    "        #plt.show()\n",
    "        print(newImageName)\n",
    "        cv2.imwrite(newImageName, resized)"
   ]
  },
  {
   "cell_type": "code",
   "execution_count": null,
   "metadata": {},
   "outputs": [],
   "source": []
  }
 ],
 "metadata": {
  "kernelspec": {
   "display_name": "Python 3",
   "language": "python",
   "name": "python3"
  },
  "language_info": {
   "codemirror_mode": {
    "name": "ipython",
    "version": 3
   },
   "file_extension": ".py",
   "mimetype": "text/x-python",
   "name": "python",
   "nbconvert_exporter": "python",
   "pygments_lexer": "ipython3",
   "version": "3.6.8"
  }
 },
 "nbformat": 4,
 "nbformat_minor": 2
}
