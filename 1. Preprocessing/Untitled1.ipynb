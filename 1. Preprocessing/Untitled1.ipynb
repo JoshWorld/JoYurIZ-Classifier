{
 "cells": [
  {
   "cell_type": "code",
   "execution_count": 4,
   "metadata": {},
   "outputs": [],
   "source": [
    "import face_recognition as FR\n",
    "from matplotlib import pyplot as plt\n",
    "import os, os.path\n",
    "import sys\n",
    "import cv2\n",
    "from PIL import Image\n",
    "from PIL import GifImagePlugin\n",
    "import numpy as np"
   ]
  },
  {
   "cell_type": "code",
   "execution_count": 13,
   "metadata": {},
   "outputs": [
    {
     "name": "stdout",
     "output_type": "stream",
     "text": [
      "True 75\n",
      "<class 'PIL.Image.Image'>\n"
     ]
    }
   ],
   "source": [
    "imageObject = Image.open(\"../Dataset/test/yaena.gif\")\n",
    "print(imageObject.is_animated, imageObject.n_frames)\n",
    "imageObject.seek(0) \n",
    "imageObject = imageObject.convert('RGB')\n",
    "print(type(imageObject))\n",
    "image = np.array(imageObject)\n",
    "faces = FR.face_locations(image, number_of_times_to_upsample=0, model=\"cnn\")\n",
    "for T, R, B, L in faces:\n",
    "    crop  = image[T:B, L:R]\n",
    "    resized= cv2.resize(crop, (128, 128),interpolation = cv2.INTER_CUBIC)\n",
    "    cv2.rectangle(image, (L, T), (R, B), (0, 255, 0), 4)\n",
    "    plt.imshow(resized)\n",
    "    plt.show()\n"
   ]
  },
  {
   "cell_type": "code",
   "execution_count": 17,
   "metadata": {},
   "outputs": [],
   "source": [
    "import magic"
   ]
  },
  {
   "cell_type": "code",
   "execution_count": 23,
   "metadata": {},
   "outputs": [
    {
     "name": "stdout",
     "output_type": "stream",
     "text": [
      "JPEG\n",
      "GIF image data, version 89a, 550 x 400\n",
      "JPEG image data, JFIF standard 1.01, aspect ratio, density 1x1, segment length 16, progressive, precision 8, 630x945, frames 3\n",
      "PNG image data, 750 x 1061, 8-bit/color RGBA, non-interlaced\n"
     ]
    }
   ],
   "source": [
    "print(magic.from_file(\"../Dataset/test/yuri.jpg\").split()[0])\n",
    "print(magic.from_file(\"../Dataset/test/yuri.gif\"))\n",
    "print(magic.from_file(\"../Dataset/test/chaewon.jpg\"))\n",
    "print(magic.from_file(\"../Dataset/test/chaewon.png\"))"
   ]
  },
  {
   "cell_type": "code",
   "execution_count": null,
   "metadata": {},
   "outputs": [],
   "source": []
  }
 ],
 "metadata": {
  "kernelspec": {
   "display_name": "Python 3",
   "language": "python",
   "name": "python3"
  },
  "language_info": {
   "codemirror_mode": {
    "name": "ipython",
    "version": 3
   },
   "file_extension": ".py",
   "mimetype": "text/x-python",
   "name": "python",
   "nbconvert_exporter": "python",
   "pygments_lexer": "ipython3",
   "version": "3.6.6"
  }
 },
 "nbformat": 4,
 "nbformat_minor": 2
}
