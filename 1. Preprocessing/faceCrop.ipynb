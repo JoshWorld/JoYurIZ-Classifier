{
 "cells": [
  {
   "cell_type": "code",
   "execution_count": null,
   "metadata": {},
   "outputs": [],
   "source": [
    "import cv2\n",
    "import numpy as np\n",
    "from matplotlib import pyplot as plt\n",
    "import os, os.path\n",
    "import sys\n",
    "from PIL import Image\n",
    "from PIL import GifImagePlugin\n",
    "import face_recognition as FR\n",
    "import magic\n",
    "import shutil"
   ]
  },
  {
   "cell_type": "code",
   "execution_count": null,
   "metadata": {},
   "outputs": [],
   "source": [
    "JoYuris =['Yuri', 'Chaewon', 'Yena']\n",
    "for member in JoYuris:\n",
    "    newImageName = ''\n",
    "    path = '../Dataset/Raw/' + member + '/'\n",
    "    savePath = '../Dataset/Train/' + member + '/'\n",
    "    failPath = '../Dataset/Fail/' + member + '/'\n",
    "    imageList = os.listdir(path)\n",
    "    cnt = 0\n",
    "    for imageName in imageList:\n",
    "        print(\"path+imageName : \",path+imageName)\n",
    "        if os.path.isfile(savePath+imageName) == True:\n",
    "            continue\n",
    "        extention = magic.from_file(path+imageName).split()[0].upper()\n",
    "        if extention == 'GIF':\n",
    "            imageObject = Image.open(path+imageName)\n",
    "            imageObject.seek(0) \n",
    "            imageObject = imageObject.convert('RGB')\n",
    "            image = np.array(imageObject)\n",
    "        elif extention != 'JPEG' and extention != 'PNG':\n",
    "            continue\n",
    "        else:\n",
    "            image = FR.load_image_file(path+imageName)\n",
    "        faces = FR.face_locations(image, number_of_times_to_upsample=0, model=\"hog\")\n",
    "        if len(faces) != 1 :\n",
    "            shutil.move(path+imageName, failPath+imageName)\n",
    "            continue\n",
    "        for T, R, B, L in faces:\n",
    "            cnt = cnt + 1\n",
    "            tcnt = 0\n",
    "            crop  = image[T:B, L:R]\n",
    "            resized = Image.fromarray(crop).resize((256,256), Image.BICUBIC)\n",
    "            print(type(resized))\n",
    "            newImageName = savePath + imageName.split('.')[0] + '.jpg'\n",
    "            print(newImageName)\n",
    "            resized.save(newImageName)"
   ]
  }
 ],
 "metadata": {
  "kernelspec": {
   "display_name": "Python 3",
   "language": "python",
   "name": "python3"
  },
  "language_info": {
   "codemirror_mode": {
    "name": "ipython",
    "version": 3
   },
   "file_extension": ".py",
   "mimetype": "text/x-python",
   "name": "python",
   "nbconvert_exporter": "python",
   "pygments_lexer": "ipython3",
   "version": "3.6.6"
  }
 },
 "nbformat": 4,
 "nbformat_minor": 2
}
