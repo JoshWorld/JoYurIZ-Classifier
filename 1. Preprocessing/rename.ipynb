{
 "cells": [
  {
   "cell_type": "code",
   "execution_count": null,
   "metadata": {},
   "outputs": [],
   "source": [
    "import os, re\n",
    "import shutil"
   ]
  },
  {
   "cell_type": "code",
   "execution_count": null,
   "metadata": {},
   "outputs": [],
   "source": [
    "def changeName(path, name):\n",
    "    i = 1\n",
    "    for fileName in os.listdir(path):\n",
    "        if re.sub('[^a-zA-Z]', '', fileName.split('.')[0]) == name:\n",
    "            j = int(re.sub('[^0-9]', '', fileName))\n",
    "            i = i if j < i else j \n",
    "    i = 1\n",
    "    for fileName in os.listdir(path):\n",
    "        if re.sub('[^a-zA-Z]', '', fileName.split('.')[0]) == name:\n",
    "            continue\n",
    "        extention = fileName.strip().split('.')[-1]\n",
    "        rename = name + str(i) + '.' + extention\n",
    "        print(path+fileName, '=>', path+rename)\n",
    "        os.rename(path+fileName, path+rename)\n",
    "        i+=1"
   ]
  },
  {
   "cell_type": "code",
   "execution_count": null,
   "metadata": {},
   "outputs": [],
   "source": [
    "def deleteFile(namePath, deletePath):\n",
    "    for fileName in os.listdir(namePath):\n",
    "        print(deletePath+fileName)\n",
    "        try:\n",
    "            os.remove(deletePath+fileName.split('.')[0]+'.jpg')\n",
    "        except:\n",
    "            try:\n",
    "                os.remove(deletePath+fileName.split('.')[0]+'.png')\n",
    "            except:\n",
    "                try:\n",
    "                    os.remove(deletePath+fileName.split('.')[0]+'.gif')\n",
    "                except:\n",
    "                    print('[ERROR]' + deletePath+fileName)"
   ]
  },
  {
   "cell_type": "code",
   "execution_count": null,
   "metadata": {},
   "outputs": [],
   "source": [
    "changeName('../Dataset/Raw/Yuri/', 'Yuri')\n",
    "changeName('../Dataset/Raw/Yena/', 'Yena')\n",
    "changeName('../Dataset/Raw/Chaewon/', 'Chaewon')"
   ]
  },
  {
   "cell_type": "code",
   "execution_count": null,
   "metadata": {},
   "outputs": [],
   "source": [
    "deleteFile('../Dataset/delete/Yuri/', '../Dataset/Raw/Yuri/')\n",
    "deleteFile('../Dataset/delete/Yena/', '../Dataset/Raw/Yena/')\n",
    "deleteFile('../Dataset/delete/Chaewon/', '../Dataset/Raw/Chaewon/')"
   ]
  }
 ],
 "metadata": {
  "kernelspec": {
   "display_name": "Python 3",
   "language": "python",
   "name": "python3"
  },
  "language_info": {
   "codemirror_mode": {
    "name": "ipython",
    "version": 3
   },
   "file_extension": ".py",
   "mimetype": "text/x-python",
   "name": "python",
   "nbconvert_exporter": "python",
   "pygments_lexer": "ipython3",
   "version": "3.6.6"
  }
 },
 "nbformat": 4,
 "nbformat_minor": 2
}
